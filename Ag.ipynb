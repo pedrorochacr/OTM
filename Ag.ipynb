{
 "cells": [
  {
   "attachments": {},
   "cell_type": "markdown",
   "metadata": {
    "id": "wWaa33t9hopo"
   },
   "source": [
    "Trabalho Otimização\n"
   ]
  },
  {
   "attachments": {},
   "cell_type": "markdown",
   "metadata": {
    "id": "LI2QCW2tgMku"
   },
   "source": [
    "Alunos:\n",
    "DIOGO EMANUEL ANTUNES SANTOS\n",
    "PEDRO HENRIQUE ROCHA DE CASTRO\n"
   ]
  },
  {
   "cell_type": "code",
   "execution_count": 857,
   "metadata": {
    "id": "zLarjhFxgMku"
   },
   "outputs": [],
   "source": [
    "import random\n",
    "import numpy as np\n",
    "import matplotlib.pyplot as plt\n",
    "import time\n",
    "import json"
   ]
  },
  {
   "attachments": {},
   "cell_type": "markdown",
   "metadata": {
    "id": "NqwjOU-xgMku"
   },
   "source": [
    "Definindo a distância entre as cidades"
   ]
  },
  {
   "cell_type": "code",
   "execution_count": 858,
   "metadata": {
    "id": "ZlwYccqHgMku"
   },
   "outputs": [],
   "source": [
    "file_name = 'matrix.json'\n",
    "def create_distance_matrix():\n",
    "    with open(file_name, 'r') as file:\n",
    "        matrix = json.load(file)\n",
    "        return matrix"
   ]
  },
  {
   "attachments": {},
   "cell_type": "markdown",
   "metadata": {
    "id": "1Oh6k2E0gMku"
   },
   "source": [
    "Função de avaliação (fitness)"
   ]
  },
  {
   "cell_type": "code",
   "execution_count": 859,
   "metadata": {
    "id": "3RBXmXHugMkv"
   },
   "outputs": [],
   "source": [
    "def calculate_fitness(solution, distance_matrix, base_city):\n",
    "    total_distance = 0\n",
    "    for route in solution:\n",
    "        route_distance = 0\n",
    "        # Calcula a distância total da rota incluindo a cidade base no início e no final\n",
    "        for i in range(len(route) - 1):\n",
    "            route_distance += distance_matrix[route[i]][route[i+1]]\n",
    "        total_distance += route_distance\n",
    "    return total_distance"
   ]
  },
  {
   "attachments": {},
   "cell_type": "markdown",
   "metadata": {
    "id": "Wwq5OMBkgMkv"
   },
   "source": [
    "Seleção por torneio"
   ]
  },
  {
   "cell_type": "code",
   "execution_count": 860,
   "metadata": {
    "id": "sVpR1VIzgMkv"
   },
   "outputs": [],
   "source": [
    "def tournament_selection(population, fitnesses):\n",
    "    selected = random.sample(list(zip(population, fitnesses)), 3)\n",
    "    selected.sort(key=lambda x: x[1])\n",
    "    return selected[0][0]"
   ]
  },
  {
   "attachments": {},
   "cell_type": "markdown",
   "metadata": {
    "id": "pj8m9IcNgMkv"
   },
   "source": [
    "Operador de cruzamento (crossover)"
   ]
  },
  {
   "cell_type": "code",
   "execution_count": 861,
   "metadata": {
    "id": "Kpi1zMqEgMkv"
   },
   "outputs": [],
   "source": [
    "def crossover(parent1, parent2):\n",
    "    probability = random.random()\n",
    "    if probability > 0.7:\n",
    "        return random.choice([parent1, parent2])\n",
    "    \n",
    "    # Realiza o crossover (Order Crossover - OX)\n",
    "    size = len(parent1)\n",
    "    start, end = sorted(random.sample(range(size), 2))\n",
    "    child = [-1] * size\n",
    "    child[start:end] = parent1[start:end]\n",
    "    pointer = 0\n",
    "    for gene in parent2:\n",
    "        if gene not in child:\n",
    "            while child[pointer] != -1:\n",
    "                pointer += 1\n",
    "            child[pointer] = gene\n",
    "    return child"
   ]
  },
  {
   "attachments": {},
   "cell_type": "markdown",
   "metadata": {
    "id": "YtGsfTwXgMkv"
   },
   "source": [
    "Operador de mutação"
   ]
  },
  {
   "cell_type": "code",
   "execution_count": 862,
   "metadata": {
    "id": "jFyu4SrigMkv"
   },
   "outputs": [],
   "source": [
    "def mutate(route, mutation_rate):\n",
    "    for i in range(len(route)):\n",
    "        if random.random() < mutation_rate:\n",
    "            j = random.randint(0, len(route) - 1)\n",
    "            route[i], route[j] = route[j], route[i]\n",
    "    return route"
   ]
  },
  {
   "attachments": {},
   "cell_type": "markdown",
   "metadata": {
    "id": "SqfttyJggMkv"
   },
   "source": [
    "Algoritmo Genético"
   ]
  },
  {
   "cell_type": "code",
   "execution_count": 863,
   "metadata": {
    "id": "SO5V-hLSgMkw"
   },
   "outputs": [],
   "source": [
    "def split_routes_by_demand(route, demands, truck_capacity, base_city):\n",
    "    routes = []\n",
    "    current_load = 0\n",
    "    sub_route = [base_city]  # O caminhão sempre começa na cidade base\n",
    "    \n",
    "    for city in route:\n",
    "        demand = demands[city]  # Demanda da cidade (lembrando que a primeira cidade é a base e não tem demanda)\n",
    "        if current_load + demand <= truck_capacity:\n",
    "            sub_route.append(city)\n",
    "            current_load += demand\n",
    "        else:\n",
    "            # Quando o caminhão atinge a capacidade máxima, ele volta à base e começa uma nova viagem\n",
    "            sub_route.append(base_city)\n",
    "            routes.append(sub_route)\n",
    "            sub_route = [base_city, city]  # Nova viagem\n",
    "            current_load = demand\n",
    "\n",
    "    sub_route.append(base_city)\n",
    "    routes.append(sub_route)  # Adiciona a última rota\n",
    "    return routes\n",
    "\n",
    "def genetic_algorithm(num_cities, population_size, generations, mutation_rate, truck_capacity, base_city, demands):\n",
    "    distance_matrix = create_distance_matrix()\n",
    "\n",
    "    # População inicial: cada solução é uma lista de rotas\n",
    "    population = [random.sample(range(1, num_cities), num_cities - 1) for _ in range(population_size)]\n",
    "    best_route = None\n",
    "    best_fitness = float('inf')\n",
    "    \n",
    "    average_fitnesses = []\n",
    "    worst_fitnesses = []\n",
    "    best_fitnesses = []\n",
    "\n",
    "    for generation in range(generations):\n",
    "        # Cada indivíduo será dividido em múltiplas viagens, considerando a demanda das cidades e a capacidade do caminhão\n",
    "        population_with_routes = [split_routes_by_demand(route, demands, truck_capacity, base_city) for route in population]\n",
    "        \n",
    "        # Avaliando o fitness de cada solução\n",
    "        fitnesses = [calculate_fitness(solution, distance_matrix, base_city) for solution in population_with_routes]\n",
    "        \n",
    "        # Armazenando as estatísticas\n",
    "        average_fitness = np.mean(fitnesses)\n",
    "        worst_fitness = max(fitnesses)\n",
    "        current_best_fitness = min(fitnesses)\n",
    "        \n",
    "        average_fitnesses.append(average_fitness)\n",
    "        worst_fitnesses.append(worst_fitness)\n",
    "        best_fitnesses.append(current_best_fitness)\n",
    "        \n",
    "        if current_best_fitness < best_fitness:\n",
    "            best_fitness = current_best_fitness\n",
    "            best_route = population_with_routes[fitnesses.index(current_best_fitness)]\n",
    "\n",
    "        new_population = []\n",
    "        for _ in range(population_size):\n",
    "            parent1 = tournament_selection(population, fitnesses)\n",
    "            parent2 = tournament_selection(population, fitnesses)\n",
    "            child = crossover(parent1, parent2)\n",
    "            child = mutate(child, mutation_rate)\n",
    "            new_population.append(child)\n",
    "\n",
    "        population = new_population\n",
    "        \n",
    "    statistics_array = []\n",
    "    fitness_over_time = []\n",
    "    for generation in range(generations):\n",
    "        statistics = {\n",
    "            'generation': generation,\n",
    "            'mean_fitness': average_fitnesses[generation],\n",
    "            'worst_fitness': worst_fitnesses[generation],\n",
    "            'best_fitness': best_fitnesses[generation]\n",
    "        }\n",
    "        statistics_array.append(statistics)\n",
    "        fitness_over_time.append([best_fitnesses[generation], generation])\n",
    "    \n",
    "    with open('statistics.json', 'w') as file:\n",
    "        json.dump(statistics_array, file, indent=4) \n",
    "    with open('fitness_over_time.json', 'w') as file:\n",
    "        json.dump(fitness_over_time, file, indent=4)\n",
    "        \n",
    "    return best_route, best_fitness\n",
    "\n",
    "    '''\n",
    "    # Plotando os gráficos\n",
    "    plt.figure(figsize=(10, 6))\n",
    "    plt.plot(best_fitnesses, label='Melhor Fitness')\n",
    "    plt.plot(worst_fitnesses, label='Pior Fitness')\n",
    "    plt.plot(average_fitnesses, label='Média do Fitness')\n",
    "    plt.xlabel('Gerações')\n",
    "    plt.ylabel('Fitness')\n",
    "    plt.title('Evolução do Fitness ao Longo das Gerações')\n",
    "    plt.legend()\n",
    "    plt.show()\n",
    "    '''"
   ]
  },
  {
   "attachments": {},
   "cell_type": "markdown",
   "metadata": {
    "id": "r87hXV8PgMkw"
   },
   "source": [
    "Parâmetros do algoritmo"
   ]
  },
  {
   "cell_type": "code",
   "execution_count": 864,
   "metadata": {
    "colab": {
     "base_uri": "https://localhost:8080/",
     "height": 1000
    },
    "id": "Gi4DmaQggMkw",
    "outputId": "8349c69b-2fd1-4676-eb8d-cd2303aabbda"
   },
   "outputs": [
    {
     "name": "stdout",
     "output_type": "stream",
     "text": [
      "35\n",
      "\n",
      "Melhor rota: [[0, 25, 21, 10, 12, 18, 31, 11, 19, 13, 3, 26, 16, 29, 23, 0], [0, 17, 5, 4, 15, 0], [0, 2, 9, 6, 0], [0, 28, 8, 27, 33, 34, 14, 30, 0], [0, 7, 1, 0], [0, 32, 20, 24, 22, 0]]\n",
      "\n",
      "Melhor Resultado: 803.7946344299361\n",
      "\n",
      "Tempo de execução: 0.6 segundos\n",
      "\n"
     ]
    }
   ],
   "source": [
    "# Parâmetros do algoritmo\n",
    "num_cities = 35  # Inclui a cidade base\n",
    "population_size = 200\n",
    "generations = 100\n",
    "mutation_rate = 0.01\n",
    "base_city = 0  # Cidade de origem dos caminhões\n",
    "truck_capacity = 1050  # Capacidade do caminhão em termos de urnas\n",
    "demands = [0, 19, 925, 94, 92, 22, 9, 1019, 89, 15, 203, 59, 21, 20, 33, 10, 40, 144, 25, 77, 59, 216, 92, 15, 572, 22, 18, 324, 365, 56, 28, 73, 284, 14, 160]\n",
    "\n",
    "print(len(demands))\n",
    "\n",
    "# Executando o algoritmo\n",
    "start_time = time.time()\n",
    "best_route, best_fitness = genetic_algorithm(num_cities, population_size, generations, mutation_rate, truck_capacity, base_city, demands)\n",
    "end_time = time.time()\n",
    "execution_time = end_time - start_time\n",
    "\n",
    "print(f\"\\nMelhor rota: {best_route}\\n\")\n",
    "print(f\"Melhor Resultado: {best_fitness}\\n\")\n",
    "# Round the execution time to 2 decimal places\n",
    "execution_time = round(execution_time, 2)\n",
    "print(f\"Tempo de execução: {execution_time} segundos\\n\")"
   ]
  }
 ],
 "metadata": {
  "colab": {
   "provenance": []
  },
  "kernelspec": {
   "display_name": "Python 3 (ipykernel)",
   "language": "python",
   "name": "python3"
  },
  "language_info": {
   "codemirror_mode": {
    "name": "ipython",
    "version": 3
   },
   "file_extension": ".py",
   "mimetype": "text/x-python",
   "name": "python",
   "nbconvert_exporter": "python",
   "pygments_lexer": "ipython3",
   "version": "3.12.1"
  }
 },
 "nbformat": 4,
 "nbformat_minor": 1
}
